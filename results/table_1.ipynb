{
 "cells": [
  {
   "cell_type": "code",
   "execution_count": 1,
   "id": "a85e56fa-20b4-4229-985d-dc6e1c442317",
   "metadata": {},
   "outputs": [],
   "source": [
    "# table of predicted univariate coefficients for real data\n",
    "import pandas as pd\n",
    "import numpy as np\n",
    "import torch\n",
    "from data import *\n",
    "import os "
   ]
  },
  {
   "cell_type": "code",
   "execution_count": 2,
   "id": "27b73a0f",
   "metadata": {},
   "outputs": [],
   "source": [
    "# file paths\n",
    "base_file = '/share/garg/311_data/sb2377/clean_codebase/three_year_base.csv'\n",
    "coeffs_file = '/share/garg/311_data/sb2377/clean_codebase/semisynthetic/semisynthetic_coeffs.csv'\n",
    "results_dir = '/share/garg/311_data/sb2377/results'\n",
    "\n",
    "# user specified arguments\n",
    "types = {'Street': 'StreetConditionDOT',\n",
    "         'Park': 'MaintenanceorFacilityDPR',\n",
    "         'Rodent': 'RodentDOHMH',\n",
    "         'Food': 'FoodDOHMH',\n",
    "         'DCWP': 'ConsumerComplaintDCWP'}\n",
    "covariates = {'log(Population density)':{'job_ids': [i * 6 + 3400 for i in range(13)]},\n",
    "              'log(Median income)':{'job_ids': [i * 6 + 3401 for i in range(13)]},\n",
    "              'Bachelors degree population':{'job_ids': [i * 6 + 3402 for i in range(13)]},\n",
    "              'White population':{'job_ids': [i * 6 + 3403 for i in range(13)]},\n",
    "              'Median age':{'job_ids': [i * 6 + 3404 for i in range(13)]},\n",
    "              'Households occupied by renter':{'job_ids': [i * 6 + 3405 for i in range(13)]}}\n",
    "epoch = '59'"
   ]
  },
  {
   "cell_type": "code",
   "execution_count": 3,
   "id": "55d4753a",
   "metadata": {},
   "outputs": [],
   "source": [
    "# load files\n",
    "base_df = pd.read_csv(base_file)\n",
    "coeff_df = pd.read_csv(coeffs_file)"
   ]
  },
  {
   "cell_type": "code",
   "execution_count": 4,
   "id": "4734c159",
   "metadata": {},
   "outputs": [],
   "source": [
    "# get type indices\n",
    "type_df = base_df[['typeagency', 'type_idxs']].drop_duplicates()\n",
    "indices = {}\n",
    "for type_name, type_id in types.items():\n",
    "    idx = type_df[type_df['typeagency'] == type_id]['type_idxs'].iloc[0]\n",
    "    indices[type_name] = idx"
   ]
  },
  {
   "cell_type": "code",
   "execution_count": 5,
   "id": "cc905dc6",
   "metadata": {},
   "outputs": [
    {
     "name": "stdout",
     "output_type": "stream",
     "text": [
      "log(Population density): checkpoint files done = 13\n",
      "log(Median income): checkpoint files done = 13\n",
      "Bachelors degree population: checkpoint files done = 13\n",
      "White population: checkpoint files done = 13\n",
      "Median age: checkpoint files done = 13\n",
      "Households occupied by renter: checkpoint files done = 13\n"
     ]
    }
   ],
   "source": [
    "# get predicted coefficients for all jobs\n",
    "checkpoint_file = '{}/job{}/model-epoch={}.ckpt'\n",
    "checkpoint_counters = {}\n",
    "for c in covariates:\n",
    "    checkpoint_counters[c] = 0\n",
    "predictions = {}\n",
    "\n",
    "for c in covariates:\n",
    "    job_ids = covariates[c]['job_ids']\n",
    "    pred_coeffs = []\n",
    "    for i, job_id in enumerate(job_ids):\n",
    "        if os.path.exists(checkpoint_file.format(results_dir, job_id, epoch)):\n",
    "            checkpoint_counters[c] += 1\n",
    "\n",
    "            # get predicted coefficient\n",
    "            checkpoint = torch.load(checkpoint_file.format(results_dir, job_id, epoch), map_location=torch.device('cpu'))\n",
    "            coeff = checkpoint['state_dict']['pt_layer']\n",
    "            mean_coeff = coeff[list(indices.values())].mean(dim=0)\n",
    "            pred_coeffs.append(mean_coeff)\n",
    "\n",
    "    predictions[c] = {'coeffs':np.array(pred_coeffs),\n",
    "                      'mean': np.mean(pred_coeffs, axis=0),\n",
    "                      'stderr': 1.96 * np.std(pred_coeffs, axis=0) / np.sqrt(len(pred_coeffs) - 1)}\n",
    "\n",
    "for c in covariates:\n",
    "    print('{}: checkpoint files done = {}'.format(c, checkpoint_counters[c]))"
   ]
  },
  {
   "cell_type": "code",
   "execution_count": null,
   "id": "085ff6b3-99f2-42b5-ae44-c3d1720fcb0e",
   "metadata": {},
   "outputs": [
    {
     "data": {
      "text/html": [
       "<div>\n",
       "<style scoped>\n",
       "    .dataframe tbody tr th:only-of-type {\n",
       "        vertical-align: middle;\n",
       "    }\n",
       "\n",
       "    .dataframe tbody tr th {\n",
       "        vertical-align: top;\n",
       "    }\n",
       "\n",
       "    .dataframe thead th {\n",
       "        text-align: right;\n",
       "    }\n",
       "</style>\n",
       "<table border=\"1\" class=\"dataframe\">\n",
       "  <thead>\n",
       "    <tr style=\"text-align: right;\">\n",
       "      <th></th>\n",
       "      <th>covariates</th>\n",
       "      <th>mean_coeffs</th>\n",
       "      <th>95%_CI_width</th>\n",
       "    </tr>\n",
       "  </thead>\n",
       "  <tbody>\n",
       "    <tr>\n",
       "      <th>0</th>\n",
       "      <td>log(Population density)</td>\n",
       "      <td>0.249722</td>\n",
       "      <td>0.057721</td>\n",
       "    </tr>\n",
       "    <tr>\n",
       "      <th>1</th>\n",
       "      <td>log(Median income)</td>\n",
       "      <td>0.172800</td>\n",
       "      <td>0.019521</td>\n",
       "    </tr>\n",
       "    <tr>\n",
       "      <th>2</th>\n",
       "      <td>Bachelors degree population</td>\n",
       "      <td>0.158760</td>\n",
       "      <td>0.017616</td>\n",
       "    </tr>\n",
       "    <tr>\n",
       "      <th>5</th>\n",
       "      <td>Households occupied by renter</td>\n",
       "      <td>0.114750</td>\n",
       "      <td>0.029451</td>\n",
       "    </tr>\n",
       "    <tr>\n",
       "      <th>4</th>\n",
       "      <td>Median age</td>\n",
       "      <td>0.104365</td>\n",
       "      <td>0.015600</td>\n",
       "    </tr>\n",
       "    <tr>\n",
       "      <th>3</th>\n",
       "      <td>White population</td>\n",
       "      <td>0.092752</td>\n",
       "      <td>0.012033</td>\n",
       "    </tr>\n",
       "    <tr>\n",
       "      <th>6</th>\n",
       "      <td>Rating</td>\n",
       "      <td>-0.196750</td>\n",
       "      <td>0.001696</td>\n",
       "    </tr>\n",
       "  </tbody>\n",
       "</table>\n",
       "</div>"
      ],
      "text/plain": [
       "                      covariates  mean_coeffs  95%_CI_width\n",
       "0        log(Population density)     0.249722      0.057721\n",
       "1             log(Median income)     0.172800      0.019521\n",
       "2    Bachelors degree population     0.158760      0.017616\n",
       "5  Households occupied by renter     0.114750      0.029451\n",
       "4                     Median age     0.104365      0.015600\n",
       "3               White population     0.092752      0.012033\n",
       "6                         Rating    -0.196750      0.001696"
      ]
     },
     "execution_count": 6,
     "metadata": {},
     "output_type": "execute_result"
    }
   ],
   "source": [
    "# calculate mean and 95% CI width of demographic coefficients\n",
    "df = pd.DataFrame()\n",
    "df['covariates'] = list(covariates.keys())\n",
    "\n",
    "means = []\n",
    "stds = []\n",
    "for c in covariates:\n",
    "    means.append(predictions[c]['mean'][0])\n",
    "    stds.append(predictions[c]['stderr'][0])\n",
    "\n",
    "df['mean_coeffs'] = means\n",
    "df['95%_CI_width'] = stds\n",
    "\n",
    "# calculate mean and 95% CI width of rating coefficients\n",
    "rating_coeffs = []\n",
    "for c in covariates:\n",
    "    rating_coeffs.append(predictions[c]['mean'][1])\n",
    "rating_coeffs = np.array(rating_coeffs)\n",
    "df.loc[len(df)] = ['Rating', \n",
    "                   rating_coeffs.mean(),\n",
    "                   rating_coeffs.std() / np.sqrt(len(rating_coeffs) - 1)]\n",
    "\n",
    "df.sort_values(by='mean_coeffs', ascending=False)"
   ]
  },
  {
   "cell_type": "code",
   "execution_count": null,
   "id": "751cac37-2456-4e6f-884d-871ee6f87a9d",
   "metadata": {},
   "outputs": [],
   "source": []
  }
 ],
 "metadata": {
  "kernelspec": {
   "display_name": "Environment (conda_gnn)",
   "language": "python",
   "name": "conda_gnn"
  }
 },
 "nbformat": 4,
 "nbformat_minor": 5
}
