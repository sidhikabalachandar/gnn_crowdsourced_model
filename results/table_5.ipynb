{
 "cells": [
  {
   "cell_type": "code",
   "execution_count": 1,
   "id": "a85e56fa-20b4-4229-985d-dc6e1c442317",
   "metadata": {},
   "outputs": [],
   "source": [
    "# table of predicted multivariate coefficients for real data\n",
    "import pandas as pd\n",
    "import matplotlib.pyplot as plt\n",
    "import numpy as np\n",
    "import torch\n",
    "from data import *\n",
    "import os\n",
    "plt.rcParams['font.family'] = 'sans-serif'"
   ]
  },
  {
   "cell_type": "code",
   "execution_count": 9,
   "id": "be058b81",
   "metadata": {},
   "outputs": [],
   "source": [
    "# file paths\n",
    "base_file = '/share/garg/311_data/sb2377/clean_codebase/three_year_base.csv'\n",
    "coeffs_file = '/share/garg/311_data/sb2377/clean_codebase/semisynthetic/semisynthetic_coeffs.csv'\n",
    "results_dir = '/share/garg/311_data/sb2377/results'\n",
    "\n",
    "# user specified arguments\n",
    "types = {'Street': 'StreetConditionDOT',\n",
    "         'Park': 'MaintenanceorFacilityDPR',\n",
    "         'Rodent': 'RodentDOHMH',\n",
    "         'Food': 'FoodDOHMH',\n",
    "         'DCWP': 'ConsumerComplaintDCWP'}\n",
    "covariates = ['log(Population density)',\n",
    "              'log(Median income)',\n",
    "              'Bachelors degree population',\n",
    "              'White population',\n",
    "              'Median age',\n",
    "              'Households occupied by renter',\n",
    "              'Rating']\n",
    "job_ids = [3000] + [i * 3 + 3005 for i in range(12)]\n",
    "epoch = '59'"
   ]
  },
  {
   "cell_type": "code",
   "execution_count": 3,
   "id": "0f7153dc",
   "metadata": {},
   "outputs": [],
   "source": [
    "# load files\n",
    "base_df = pd.read_csv(base_file)\n",
    "coeff_df = pd.read_csv(coeffs_file)"
   ]
  },
  {
   "cell_type": "code",
   "execution_count": 4,
   "id": "bac10700",
   "metadata": {},
   "outputs": [],
   "source": [
    "# get type indices\n",
    "type_df = base_df[['typeagency', 'type_idxs']].drop_duplicates()\n",
    "indices = {}\n",
    "for type_name, type_id in types.items():\n",
    "    idx = type_df[type_df['typeagency'] == type_id]['type_idxs'].iloc[0]\n",
    "    indices[type_name] = idx"
   ]
  },
  {
   "cell_type": "code",
   "execution_count": null,
   "id": "95e717ee-8e6c-4e6e-922a-cddb23a2bf3b",
   "metadata": {},
   "outputs": [
    {
     "name": "stdout",
     "output_type": "stream",
     "text": [
      "num done = 13\n"
     ]
    }
   ],
   "source": [
    "# get predicted coefficients for all jobs\n",
    "checkpoint_file = '{}/job{}/model-epoch={}.ckpt'\n",
    "counter = 0\n",
    "pred_coeffs = []\n",
    "\n",
    "for job_id in job_ids:\n",
    "    checkpoint_file_formatted = checkpoint_file.format(results_dir, job_id, epoch)\n",
    "    if os.path.exists(checkpoint_file_formatted):\n",
    "        counter += 1\n",
    "        checkpoint = torch.load(checkpoint_file_formatted, map_location=torch.device('cpu'))\n",
    "        coeffs = checkpoint['state_dict']['pt_layer']\n",
    "        pred_coeffs.append(coeffs[list(indices.values())].mean(dim=0))\n",
    "        \n",
    "print('num done = {}'.format(counter))"
   ]
  },
  {
   "cell_type": "code",
   "execution_count": null,
   "id": "a134c734-1d20-41d5-9905-43c26d14f9df",
   "metadata": {},
   "outputs": [
    {
     "data": {
      "text/html": [
       "<div>\n",
       "<style scoped>\n",
       "    .dataframe tbody tr th:only-of-type {\n",
       "        vertical-align: middle;\n",
       "    }\n",
       "\n",
       "    .dataframe tbody tr th {\n",
       "        vertical-align: top;\n",
       "    }\n",
       "\n",
       "    .dataframe thead th {\n",
       "        text-align: right;\n",
       "    }\n",
       "</style>\n",
       "<table border=\"1\" class=\"dataframe\">\n",
       "  <thead>\n",
       "    <tr style=\"text-align: right;\">\n",
       "      <th></th>\n",
       "      <th>covariates</th>\n",
       "      <th>mean_coeffs</th>\n",
       "      <th>95%_CI_width</th>\n",
       "    </tr>\n",
       "  </thead>\n",
       "  <tbody>\n",
       "    <tr>\n",
       "      <th>2</th>\n",
       "      <td>Bachelors degree population</td>\n",
       "      <td>0.233551</td>\n",
       "      <td>0.029734</td>\n",
       "    </tr>\n",
       "    <tr>\n",
       "      <th>5</th>\n",
       "      <td>Households occupied by renter</td>\n",
       "      <td>0.173637</td>\n",
       "      <td>0.027838</td>\n",
       "    </tr>\n",
       "    <tr>\n",
       "      <th>4</th>\n",
       "      <td>Median age</td>\n",
       "      <td>0.154986</td>\n",
       "      <td>0.010347</td>\n",
       "    </tr>\n",
       "    <tr>\n",
       "      <th>0</th>\n",
       "      <td>log(Population density)</td>\n",
       "      <td>0.148471</td>\n",
       "      <td>0.035298</td>\n",
       "    </tr>\n",
       "    <tr>\n",
       "      <th>3</th>\n",
       "      <td>White population</td>\n",
       "      <td>-0.072002</td>\n",
       "      <td>0.013358</td>\n",
       "    </tr>\n",
       "    <tr>\n",
       "      <th>1</th>\n",
       "      <td>log(Median income)</td>\n",
       "      <td>-0.125985</td>\n",
       "      <td>0.023547</td>\n",
       "    </tr>\n",
       "    <tr>\n",
       "      <th>6</th>\n",
       "      <td>Rating</td>\n",
       "      <td>-0.192985</td>\n",
       "      <td>0.009148</td>\n",
       "    </tr>\n",
       "  </tbody>\n",
       "</table>\n",
       "</div>"
      ],
      "text/plain": [
       "                      covariates  mean_coeffs  95%_CI_width\n",
       "2    Bachelors degree population     0.233551      0.029734\n",
       "5  Households occupied by renter     0.173637      0.027838\n",
       "4                     Median age     0.154986      0.010347\n",
       "0        log(Population density)     0.148471      0.035298\n",
       "3               White population    -0.072002      0.013358\n",
       "1             log(Median income)    -0.125985      0.023547\n",
       "6                         Rating    -0.192985      0.009148"
      ]
     },
     "execution_count": 10,
     "metadata": {},
     "output_type": "execute_result"
    }
   ],
   "source": [
    "# calculate mean and 95% CI width of coefficients\n",
    "df = pd.DataFrame()\n",
    "df['covariates'] = covariates\n",
    "pred_coeffs = np.array(pred_coeffs)\n",
    "df['mean_coeffs'] = pred_coeffs.mean(axis=0)\n",
    "stderr_coeffs = 1.96 * pred_coeffs.std(axis=0) / np.sqrt(pred_coeffs.shape[0] - 1)\n",
    "df['95%_CI_width'] = stderr_coeffs\n",
    "df.sort_values(by='mean_coeffs', ascending=False)"
   ]
  },
  {
   "cell_type": "code",
   "execution_count": null,
   "id": "204ba90d-f823-4dca-8b79-d020b524a80f",
   "metadata": {},
   "outputs": [],
   "source": []
  }
 ],
 "metadata": {
  "kernelspec": {
   "display_name": "Environment (conda_gnn)",
   "language": "python",
   "name": "conda_gnn"
  }
 },
 "nbformat": 4,
 "nbformat_minor": 5
}
