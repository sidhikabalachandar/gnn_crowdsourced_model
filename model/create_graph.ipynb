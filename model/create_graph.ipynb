{
 "cells": [
  {
   "cell_type": "code",
   "execution_count": 1,
   "id": "e8f6e643-6401-4431-890d-11ce798fa551",
   "metadata": {},
   "outputs": [],
   "source": [
    "from pygris import blocks, tracts, block_groups\n",
    "from libpysal import weights\n",
    "import networkx as nx\n",
    "import pandas as pd"
   ]
  },
  {
   "cell_type": "code",
   "execution_count": 2,
   "id": "88a98e58-b16f-4336-a2e7-378b7b7d6b0e",
   "metadata": {},
   "outputs": [],
   "source": [
    "# paths to files\n",
    "covar_file = '/share/garg/311_data/sb2377/clean_codebase/tract_demographics.csv'\n",
    "graph_save_file = '/share/garg/311_data/sb2377/clean_codebase/nyc_tracts.graphml'\n",
    "df_save_file = '/share/garg/311_data/sb2377/clean_codebase/nyc_census_graph.csv'"
   ]
  },
  {
   "cell_type": "code",
   "execution_count": 3,
   "id": "3d3f5098-528d-41e9-b31b-94d5afbd1bd4",
   "metadata": {},
   "outputs": [],
   "source": [
    "def generate_graph_census(census_unit='tracts',\n",
    "                          state='NY',\n",
    "                          counties=['New York','Bronx','Kings','Queens','Richmond'],\n",
    "                          weight_scheme='rook',\n",
    "                          remove_high_degree_nodes=False,\n",
    "                          remove_long_edges=False,\n",
    "                          remove_zeropop=False,\n",
    "                          remove_parks=False,\n",
    "                          tresh_degree=9,\n",
    "                          tresh_edgelength=2_000,\n",
    "                          tresh_parkarea=0.75,\n",
    "                          tresh_population=1):\n",
    "    \n",
    "    #Collect the full census geography data:\n",
    "    assert census_unit.lower() in ['tracts', 'blocks', 'block groups', 'blockgroups']\n",
    "    if census_unit.lower() == 'tracts':\n",
    "        census_gdf_raw = tracts(state=state, county=counties)\n",
    "    elif census_unit.lower() == 'blocks':\n",
    "        census_gdf_raw = blocks(state=state, county=counties)\n",
    "    elif census_unit.lower() == 'block groups' or census_unit.lower() == 'blockgroups':\n",
    "        census_gdf_raw = block_groups(state=state, county=counties)\n",
    "        \n",
    "    #Get the weights:\n",
    "    assert weight_scheme.lower() in ['rook', 'queen']\n",
    "    if weight_scheme.lower() == 'rook':\n",
    "        spatial_weights = weights.Rook.from_dataframe(census_gdf_raw, silence_warnings=True)\n",
    "    elif weight_scheme.lower() == 'queen':\n",
    "        spatial_weights = weights.Queen.from_dataframe(census_gdf_raw, silence_warnings=True)\n",
    "        \n",
    "    #Convert weights to graph:\n",
    "    graph_raw = spatial_weights.to_networkx()\n",
    "    \n",
    "    #Trim the graph from outliers:\n",
    "    if remove_high_degree_nodes: graph_raw = trim_graph_degree(graph_raw, tresh_degree)\n",
    "    if remove_long_edges: graph_raw = trim_graph_edge(graph_raw, census_gdf_raw, tresh_edgelength)\n",
    "    if remove_parks: graph_raw = trim_graph_parks(graph_raw, census_gdf_raw, tresh_parkarea)\n",
    "    if remove_zeropop: graph_raw = trim_graph_pop(graph_raw, census_gdf_raw, tresh_population)\n",
    "    \n",
    "    #Collect the largest connected component:\n",
    "    graph_largest_component = max(nx.connected_components(graph_raw), key=len)\n",
    "    graph = graph_raw.subgraph(graph_largest_component).copy()\n",
    "    \n",
    "    #Filter the gdf:\n",
    "    census_gdf = census_gdf_raw.iloc[list(graph.nodes())].reset_index(drop=True)\n",
    "    final_graph = nx.convert_node_labels_to_integers(graph)\n",
    "    \n",
    "    return census_gdf, final_graph, census_gdf_raw, graph"
   ]
  },
  {
   "cell_type": "code",
   "execution_count": 4,
   "id": "99f6aacd-04e2-456e-b9da-180b84105520",
   "metadata": {},
   "outputs": [],
   "source": [
    "# load files\n",
    "covariates_arr = pd.read_csv(covar_file)"
   ]
  },
  {
   "cell_type": "code",
   "execution_count": 5,
   "id": "c51dd23e-a37a-4422-8f6f-9a741979bc09",
   "metadata": {},
   "outputs": [
    {
     "name": "stdout",
     "output_type": "stream",
     "text": [
      "Using the default year of 2021\n",
      "Using FIPS code '36' for input 'NY'\n",
      "Using FIPS code '061' for input 'New York'\n",
      "Using FIPS code '005' for input 'Bronx'\n",
      "Using FIPS code '047' for input 'Kings'\n",
      "Using FIPS code '081' for input 'Queens'\n",
      "Using FIPS code '085' for input 'Richmond'\n"
     ]
    }
   ],
   "source": [
    "# generate graph\n",
    "census_gdf, final_graph, census_gdf_raw, graph = generate_graph_census()"
   ]
  },
  {
   "cell_type": "code",
   "execution_count": 6,
   "id": "7fb73cb8-5de5-4a0e-a955-12f7b34cec1f",
   "metadata": {},
   "outputs": [],
   "source": [
    "# remove nodes from graph that had invalid covariate data\n",
    "nodes = covariates_arr['GEOID'].unique()\n",
    "census_gdf['GEOID'] = census_gdf['GEOID'].astype('int')\n",
    "all_node_idxs = set(census_gdf.index)\n",
    "kept_node_idxs = set(census_gdf[census_gdf['GEOID'].isin(nodes)].index)\n",
    "filtered_node_idxs = all_node_idxs.difference(kept_node_idxs)\n",
    "final_graph.remove_nodes_from(filtered_node_idxs)\n",
    "\n",
    "# update labeling\n",
    "kept_node_idxs = list(kept_node_idxs)\n",
    "mapping = {}\n",
    "for i, node in enumerate(kept_node_idxs):\n",
    "    mapping[node] = i\n",
    "final_graph = nx.relabel_nodes(final_graph, mapping)"
   ]
  },
  {
   "cell_type": "code",
   "execution_count": 8,
   "id": "1545e351-f28a-4a87-8906-392c8758848f",
   "metadata": {},
   "outputs": [],
   "source": [
    "# remove nodes from df that had invalid covariate data\n",
    "census_gdf = census_gdf[census_gdf['GEOID'].isin(nodes)]"
   ]
  },
  {
   "cell_type": "code",
   "execution_count": 9,
   "id": "d7c6b511-c660-4fef-b952-9888f6a6dd50",
   "metadata": {},
   "outputs": [],
   "source": [
    "assert(len(census_gdf[census_gdf.isna().any(axis=1)]) == 0)"
   ]
  },
  {
   "cell_type": "code",
   "execution_count": 12,
   "id": "7ef88529-18a4-42bf-a221-543ece786ff6",
   "metadata": {},
   "outputs": [],
   "source": [
    "nx.write_graphml(final_graph, graph_save_file)"
   ]
  },
  {
   "cell_type": "code",
   "execution_count": null,
   "id": "3fea31e0-46fa-47ba-bf43-5ffb7ba7d68d",
   "metadata": {},
   "outputs": [],
   "source": [
    "census_gdf.to_csv(df_save_file, index=False)"
   ]
  }
 ],
 "metadata": {
  "kernelspec": {
   "display_name": "Environment (conda_networks_underreporting_env)",
   "language": "python",
   "name": "conda_networks_underreporting_env"
  },
  "language_info": {
   "codemirror_mode": {
    "name": "ipython",
    "version": 3
   },
   "file_extension": ".py",
   "mimetype": "text/x-python",
   "name": "python",
   "nbconvert_exporter": "python",
   "pygments_lexer": "ipython3",
   "version": "3.10.12"
  }
 },
 "nbformat": 4,
 "nbformat_minor": 5
}
